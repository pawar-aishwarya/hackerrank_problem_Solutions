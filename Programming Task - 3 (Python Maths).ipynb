{
 "cells": [
  {
   "cell_type": "code",
   "execution_count": null,
   "id": "8d4ef045",
   "metadata": {},
   "outputs": [],
   "source": [
    "github link-"
   ]
  },
  {
   "cell_type": "markdown",
   "id": "a4e7f9ca",
   "metadata": {},
   "source": [
    "## Task-1\n",
    "You are given a complex . Your task is to convert it to polar coordinates.\n",
    "A single line containing the complex number . Note: complex() function can be used in python to convert the input as a complex number."
   ]
  },
  {
   "cell_type": "code",
   "execution_count": 1,
   "id": "230a5ea7",
   "metadata": {},
   "outputs": [
    {
     "name": "stdout",
     "output_type": "stream",
     "text": [
      "1+2j\n",
      "2.23606797749979\n",
      "1.1071487177940904\n"
     ]
    }
   ],
   "source": [
    "import cmath\n",
    "z=complex(input())\n",
    "print(abs(z))\n",
    "print(cmath.phase(z))"
   ]
  },
  {
   "cell_type": "markdown",
   "id": "46676349",
   "metadata": {},
   "source": [
    "## Task-2\n",
    "You are given a positive integer .\n",
    "Your task is to print a palindromic triangle of size .\n",
    "\n",
    "For example, a palindromic triangle of size  is:\n",
    "\n",
    "1\n",
    "121\n",
    "12321\n",
    "1234321\n",
    "123454321\n",
    "You can't take more than two lines. The first line (a for-statement) is already written for you.\n",
    "You have to complete the code using exactly one print statement.\n",
    "\n",
    "Note:\n",
    "Using anything related to strings will give a score of .\n",
    "Using more than one for-statement will give a score of ."
   ]
  },
  {
   "cell_type": "code",
   "execution_count": 3,
   "id": "c71d772b",
   "metadata": {},
   "outputs": [
    {
     "name": "stdout",
     "output_type": "stream",
     "text": [
      "1\n",
      "1\n"
     ]
    }
   ],
   "source": [
    "for i in range(1,int(input())+1): #More than 2 lines will result in 0 score. Do not leave a blank line also\n",
    "    print(((10**i-1)//9)**2)"
   ]
  },
  {
   "cell_type": "markdown",
   "id": "3d7ebae0",
   "metadata": {},
   "source": [
    "## Task-3\n",
    "Read in two integers,  and , and print three lines.\n",
    "The first line is the integer division  (While using Python2 remember to import division from __future__).\n",
    "The second line is the result of the modulo operator: .\n",
    "The third line prints the divmod of  and ."
   ]
  },
  {
   "cell_type": "code",
   "execution_count": 4,
   "id": "4c38dadc",
   "metadata": {},
   "outputs": [
    {
     "name": "stdout",
     "output_type": "stream",
     "text": [
      "5\n",
      "6\n",
      "0\n",
      "5\n",
      "(0, 5)\n"
     ]
    }
   ],
   "source": [
    "a=int(input())\n",
    "b=int(input())\n",
    "print(a//b)\n",
    "print(a%b)\n",
    "print(divmod(a,b))"
   ]
  },
  {
   "cell_type": "markdown",
   "id": "cb453065",
   "metadata": {},
   "source": [
    "## Task-4\n",
    "You are given three integers: , , and . Print two lines.\n",
    "On the first line, print the result of pow(a,b). On the second line, print the result of pow(a,b,m).\n",
    "\n",
    "Input Format\n",
    "The first line contains , the second line contains , and the third line contains .\n",
    "\n",
    "Constraints"
   ]
  },
  {
   "cell_type": "code",
   "execution_count": 5,
   "id": "31fcd38d",
   "metadata": {},
   "outputs": [
    {
     "name": "stdout",
     "output_type": "stream",
     "text": [
      "5\n",
      "6\n",
      "7\n",
      "15625\n",
      "1\n"
     ]
    }
   ],
   "source": [
    "a=int(input())\n",
    "b=int(input())\n",
    "m=int(input())\n",
    "print(pow(a,b))\n",
    "print(pow(a,b,m))"
   ]
  },
  {
   "cell_type": "markdown",
   "id": "417611ad",
   "metadata": {},
   "source": [
    "## Task-5\n",
    "Integers in Python can be as big as the bytes in your machine's memory. There is no limit in size as there is:  (c++ int) or  (C++ long long int).\n",
    "\n",
    "As we know, the result of  grows really fast with increasing .\n",
    "\n",
    "Let's do some calculations on very large integers.\n",
    "\n",
    "Task\n",
    "Read four numbers, , , , and , and print the result of .\n",
    "\n",
    "Input Format\n",
    "Integers , , , and  are given on four separate lines, respectively."
   ]
  },
  {
   "cell_type": "code",
   "execution_count": 6,
   "id": "e2a3fe47",
   "metadata": {},
   "outputs": [
    {
     "name": "stdout",
     "output_type": "stream",
     "text": [
      "5\n",
      "6\n",
      "8\n",
      "7\n",
      "2112777\n"
     ]
    }
   ],
   "source": [
    "a=int(input())\n",
    "b=int(input())\n",
    "c=int(input())\n",
    "d=int(input())\n",
    "print(a**b + c**d)\n"
   ]
  },
  {
   "cell_type": "markdown",
   "id": "851d39e0",
   "metadata": {},
   "source": [
    "## Task-6\n",
    "You are given a positive integer . Print a numerical triangle of height  like the one below:\n",
    "\n",
    "1\n",
    "22\n",
    "333\n",
    "4444\n",
    "55555\n",
    "......\n",
    "Can you do it using only arithmetic operations, a single for loop and print statement?\n",
    "\n",
    "Use no more than two lines. The first line (the for statement) is already written for you. You have to complete the print statement.\n",
    "\n",
    "Note: Using anything related to strings will give a score of .\n",
    "\n",
    "Input Format\n",
    "A single line containing integer, ."
   ]
  },
  {
   "cell_type": "code",
   "execution_count": null,
   "id": "c1a58922",
   "metadata": {},
   "outputs": [],
   "source": [
    "for i in range(1,int(input())): #More than 2 lines will result in 0 score. Do not leave \n",
    "    print(int(i*10**i/9))"
   ]
  }
 ],
 "metadata": {
  "kernelspec": {
   "display_name": "Python 3",
   "language": "python",
   "name": "python3"
  },
  "language_info": {
   "codemirror_mode": {
    "name": "ipython",
    "version": 3
   },
   "file_extension": ".py",
   "mimetype": "text/x-python",
   "name": "python",
   "nbconvert_exporter": "python",
   "pygments_lexer": "ipython3",
   "version": "3.8.8"
  }
 },
 "nbformat": 4,
 "nbformat_minor": 5
}
