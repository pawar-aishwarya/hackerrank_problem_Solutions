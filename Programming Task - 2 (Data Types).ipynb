{
 "cells": [
  {
   "cell_type": "code",
   "execution_count": null,
   "id": "2424ef86",
   "metadata": {},
   "outputs": [],
   "source": [
    "GitHub link-"
   ]
  },
  {
   "cell_type": "markdown",
   "id": "17a260b8",
   "metadata": {},
   "source": [
    "## Task-1\n",
    "Let's learn about list comprehensions! You are given three integers  and  representing the dimensions of a cuboid along with an integer . Print a list of all possible coordinates given by  on a 3D grid where the sum of  is not equal to . Here, . Please use list comprehensions rather than multiple loops, as a learning exercise.\n"
   ]
  },
  {
   "cell_type": "code",
   "execution_count": 21,
   "id": "58b0f16a",
   "metadata": {},
   "outputs": [
    {
     "name": "stdout",
     "output_type": "stream",
     "text": [
      "1\n",
      "1\n",
      "1\n",
      "2\n",
      "[[0, 0, 0], [0, 0, 1], [0, 1, 0], [1, 0, 0], [1, 1, 1]]\n"
     ]
    }
   ],
   "source": [
    "if __name__ == '__main__':\n",
    "    x = int(input())\n",
    "    y = int(input())\n",
    "    z = int(input())\n",
    "    n = int(input())\n",
    "    print(list([i,j,k] for i in range(x+1) for j in range(y+1) for k in range(z+1)  if i+j+k !=n))"
   ]
  },
  {
   "cell_type": "markdown",
   "id": "bf8c8993",
   "metadata": {},
   "source": [
    "## Task-2\n",
    "Given the participants' score sheet for your University Sports Day, you are required to find the runner-up score. You are given  scores. Store them in a list and find the score of the runner-up.\n",
    "\n",
    "Input Format\n",
    "\n",
    "The first line contains . The second line contains an array   of  integers each separated by a space."
   ]
  },
  {
   "cell_type": "code",
   "execution_count": 12,
   "id": "5e518823",
   "metadata": {},
   "outputs": [
    {
     "name": "stdout",
     "output_type": "stream",
     "text": [
      "5\n",
      "13542\n",
      "13542\n"
     ]
    }
   ],
   "source": [
    "if __name__ == '__main__':\n",
    "    n = int(input())\n",
    "    arr = set(map(int,input().split())) \n",
    "    arr = sorted(arr)\n",
    "    print(arr[(arr.index(max(arr)))-1])"
   ]
  },
  {
   "cell_type": "markdown",
   "id": "e11cc4a9",
   "metadata": {},
   "source": [
    "## Task_3\n",
    "Given the names and grades for each student in a class of  students, store them in a nested list and print the name(s) of any student(s) having the second lowest grade.\n",
    "\n",
    "Note: If there are multiple students with the second lowest grade, order their names alphabetically and print each name on a new line.\n",
    "\n",
    "Example\n",
    "\n",
    "The ordered list of scores is , so the second lowest score is . There are two students with that score: . Ordered alphabetically, the names are printed as:\n",
    "\n",
    "alpha\n",
    "beta"
   ]
  },
  {
   "cell_type": "code",
   "execution_count": 15,
   "id": "3625bfb0",
   "metadata": {},
   "outputs": [
    {
     "name": "stdout",
     "output_type": "stream",
     "text": [
      "5 \n",
      "Harry \n",
      "37.21 \n",
      " Berry\n",
      " 37.21 \n",
      " Tina \n",
      "37.2 \n",
      " Akriti\n",
      " 41 \n",
      "Harsh\n",
      " 39\n",
      " Berry\n",
      "Harry \n"
     ]
    }
   ],
   "source": [
    "if __name__ == '__main__':\n",
    "    score_sheet=[]\n",
    "    total_list=[]\n",
    "    name_list=[]\n",
    "    for _ in range(int(input())):\n",
    "        name = input()\n",
    "        score = float(input())\n",
    "        \n",
    "        score_sheet.append(score)\n",
    "        total_list.append([name,score])\n",
    "    \n",
    "    lowest=list(set(score_sheet))\n",
    "    lowest.sort()\n",
    "    \n",
    "    for name,score in total_list:\n",
    "        if score==lowest[1]:\n",
    "            name_list.append(name)\n",
    "    name_list.sort()\n",
    "    for item in name_list:\n",
    "        print(item)        \n"
   ]
  },
  {
   "cell_type": "markdown",
   "id": "8122969e",
   "metadata": {},
   "source": [
    "## Task_4\n",
    "Finding the percentage\n",
    "The provided code stub will read in a dictionary containing key/value pairs of name:[marks]\n",
    "for a list of students. Print the average of the marks array for the student name provided, showing 2 \n",
    "places after the decimal.The first line contains the integer , the number of students' records. The next  lines contain the names and marks obtained by a student, each value separated by a space. The final line contains query_name, the name of a student to query.\n"
   ]
  },
  {
   "cell_type": "code",
   "execution_count": 18,
   "id": "82b087cc",
   "metadata": {},
   "outputs": [
    {
     "name": "stdout",
     "output_type": "stream",
     "text": [
      "2\n",
      "Anurag 26 28 30\n",
      "harsh 25 26.5 28\n",
      "harsh\n",
      "26.50\n"
     ]
    }
   ],
   "source": [
    "if __name__ == '__main__':\n",
    "    n = int(input())\n",
    "    student_marks = {}\n",
    "    for _ in range(n):\n",
    "        name, *line = input().split()\n",
    "        scores = list(map(float, line))\n",
    "        student_marks[name] = scores\n",
    "    query_name = input()\n",
    "    list_st=student_marks[query_name]\n",
    "    result=0\n",
    "    for i in range(len(list_st)):\n",
    "        result+=list_st[i]\n",
    "    print(\"%.2f\" % (result/len(list_st)))\n"
   ]
  },
  {
   "cell_type": "markdown",
   "id": "c95db2d4",
   "metadata": {},
   "source": [
    "## Task-5\n",
    "Consider a list (list = []). You can perform the following commands:\n",
    "\n",
    "insert i e: Insert integer  at position .\n",
    "print: Print the list.\n",
    "remove e: Delete the first occurrence of integer .\n",
    "append e: Insert integer  at the end of the list.\n",
    "sort: Sort the list.\n",
    "pop: Pop the last element from the list.\n",
    "reverse: Reverse the list.\n",
    "Initialize your list and read in the value of  followed by  lines of commands where each command will be of the  types listed above. Iterate through each command in order and perform the corresponding operation on your list.\n",
    "\n",
    "Example\n",
    " \n",
    "\n",
    " "
   ]
  },
  {
   "cell_type": "code",
   "execution_count": 19,
   "id": "34f678c0",
   "metadata": {},
   "outputs": [
    {
     "name": "stdout",
     "output_type": "stream",
     "text": [
      "1\n",
      "insert 0 5 \n"
     ]
    }
   ],
   "source": [
    "if __name__ == '__main__':\n",
    "    n = int(input())\n",
    "    list_one=[]\n",
    "    for i in range(1,n+1):\n",
    "        st=input().split()\n",
    "        if(len(st)==3):\n",
    "            s=st[0]\n",
    "            index=int(st[1])\n",
    "            val=int(st[2])\n",
    "        elif(len(st)==2):\n",
    "            s=st[0]\n",
    "            val=int(st[1])\n",
    "        else:\n",
    "            s=st[0]\n",
    "        if(s==\"insert\"):\n",
    "             list_one.insert(index,val)\n",
    "        elif(s==\"remove\"):\n",
    "             list_one.remove(val)\n",
    "        elif(s==\"append\"):\n",
    "             list_one.append(val) \n",
    "        elif(s==\"print\"):\n",
    "            print(list_one)\n",
    "        elif(s==\"pop\"):\n",
    "            if(len(list_one)>0):\n",
    "                list_one.pop()\n",
    "        elif(s==\"reverse\"):\n",
    "            list_one.reverse()\n",
    "        elif(s==\"sort\"):\n",
    "            list_one.sort()    \n",
    "                        \n",
    "                             "
   ]
  },
  {
   "cell_type": "markdown",
   "id": "15379787",
   "metadata": {},
   "source": [
    "## Task-6\n",
    "Given an integer, , and  space-separated integers as input, create a tuple, , of those  integers. Then compute and print the result of .\n",
    "\n",
    "Note: hash() is one of the functions in the __builtins__ module, so it need not be imported.\n",
    "\n",
    "Input Format\n",
    "\n",
    "The first line contains an integer, , denoting the number of elements in the tuple.\n",
    "The second line contains  space-separated integers describing the elements in tuple .\n",
    "\n",
    "Output Format\n",
    "\n",
    "Print the result of hash(t)"
   ]
  },
  {
   "cell_type": "code",
   "execution_count": 20,
   "id": "83e7ad55",
   "metadata": {},
   "outputs": [
    {
     "name": "stdout",
     "output_type": "stream",
     "text": [
      "2\n",
      "1 2\n",
      "-3550055125485641917\n"
     ]
    }
   ],
   "source": [
    "if __name__ == '__main__':\n",
    "    n = int(input())\n",
    "    integer_list = map(int, input().split())\n",
    "    tuple_one = tuple(integer_list)\n",
    "    print(hash( tuple_one));"
   ]
  },
  {
   "cell_type": "code",
   "execution_count": null,
   "id": "735d97ad",
   "metadata": {},
   "outputs": [],
   "source": []
  }
 ],
 "metadata": {
  "kernelspec": {
   "display_name": "Python 3",
   "language": "python",
   "name": "python3"
  },
  "language_info": {
   "codemirror_mode": {
    "name": "ipython",
    "version": 3
   },
   "file_extension": ".py",
   "mimetype": "text/x-python",
   "name": "python",
   "nbconvert_exporter": "python",
   "pygments_lexer": "ipython3",
   "version": "3.8.8"
  }
 },
 "nbformat": 4,
 "nbformat_minor": 5
}
