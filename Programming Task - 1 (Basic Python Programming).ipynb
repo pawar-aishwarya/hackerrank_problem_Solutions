{
 "cells": [
  {
   "cell_type": "markdown",
   "id": "346ae5cf",
   "metadata": {},
   "source": [
    "## Task-1\n",
    "Say hello with Python\n"
   ]
  },
  {
   "cell_type": "code",
   "execution_count": null,
   "id": "0e5dc554",
   "metadata": {},
   "outputs": [],
   "source": [
    "print(\"Hello, World!\")"
   ]
  },
  {
   "cell_type": "markdown",
   "id": "91165478",
   "metadata": {},
   "source": [
    "## Task-2\n",
    "Given an integer, , perform the following conditional actions:\n",
    "\n",
    "If  is odd, print Weird\n",
    "If  is even and in the inclusive range of  to , print Not Weird\n",
    "If  is even and in the inclusive range of  to , print Weird\n",
    "If  is even and greater than , print Not Weird\n",
    "\n",
    "\n"
   ]
  },
  {
   "cell_type": "code",
   "execution_count": null,
   "id": "20ff3d82",
   "metadata": {},
   "outputs": [],
   "source": [
    "def even_odd(n):\n",
    "    if n%2==0 :\n",
    "        if n>=2 and n<=5:\n",
    "             print(\"Not Weird\")\n",
    "        elif n>=6 and n<=20:\n",
    "            print(\"Weird\")\n",
    "        elif n>20:\n",
    "            print(\"Not Weird\") \n",
    "    else:\n",
    "        print(\"Weird\")\n",
    "n = int(input())       \n",
    "even_odd(n)   \n"
   ]
  },
  {
   "cell_type": "markdown",
   "id": "44358580",
   "metadata": {},
   "source": [
    "## Task-3\n",
    "The provided code stub reads two integers from STDIN,  and . Add code to print three lines where:\n",
    "\n",
    "The first line contains the sum of the two numbers.\n",
    "The second line contains the difference of the two numbers (first - second).\n",
    "The third line contains the product of the two numbers."
   ]
  },
  {
   "cell_type": "code",
   "execution_count": 22,
   "id": "cf84f971",
   "metadata": {},
   "outputs": [
    {
     "name": "stdout",
     "output_type": "stream",
     "text": [
      "5\n",
      "8\n",
      "13\n",
      "-3\n",
      "40\n"
     ]
    }
   ],
   "source": [
    "if __name__ == '__main__':\n",
    "    a = int(input())\n",
    "    b = int(input())\n",
    "    print(a+b)\n",
    "    print(a-b)\n",
    "    print(a*b)"
   ]
  },
  {
   "cell_type": "markdown",
   "id": "0f09df25",
   "metadata": {},
   "source": [
    "## Task-4\n",
    "The provided code stub reads two integers,  and , from STDIN.\n",
    "\n",
    "Add logic to print two lines. The first line should contain the result of integer division,  // . The second line should contain the result of float division,  / .\n",
    "\n",
    "No rounding or formatting is necessary.\n",
    "\n",
    "Example\n",
    "\n",
    "\n",
    "The result of the integer division .\n",
    "The result of the float division is ."
   ]
  },
  {
   "cell_type": "code",
   "execution_count": 21,
   "id": "f221ff5a",
   "metadata": {},
   "outputs": [
    {
     "name": "stdout",
     "output_type": "stream",
     "text": [
      "5\n",
      "4\n",
      "1\n",
      "1.25\n"
     ]
    }
   ],
   "source": [
    "if __name__ == '__main__':\n",
    "    a = int(input())\n",
    "    b = int(input())\n",
    "    print(a//b)\n",
    "    print(a/b)\n"
   ]
  },
  {
   "cell_type": "markdown",
   "id": "a89ac573",
   "metadata": {},
   "source": [
    "## Task-5\n",
    "The provided code stub reads and integer,n , from STDIN. For all non-negative integers i<n , print i**2 .\n",
    "\n",
    "Example\n",
    "\n",
    "The list of non-negative integers that are less than  n=3 is . Print the square of each number on a separate line."
   ]
  },
  {
   "cell_type": "code",
   "execution_count": 20,
   "id": "f0af1cab",
   "metadata": {},
   "outputs": [
    {
     "name": "stdout",
     "output_type": "stream",
     "text": [
      "5\n",
      "0\n",
      "1\n",
      "4\n",
      "9\n",
      "16\n"
     ]
    }
   ],
   "source": [
    "if __name__ == '__main__':\n",
    "    n = int(input())\n",
    "    for i in range(n):\n",
    "        print(i**2)\n",
    "        i+=1\n"
   ]
  },
  {
   "cell_type": "markdown",
   "id": "29c50f13",
   "metadata": {},
   "source": [
    "## Task-6\n",
    "\n",
    "Given a year, determine whether it is a leap year. If it is a leap year, return the Boolean True, otherwise return False.\n",
    "\n",
    "Note that the code stub provided reads from STDIN and passes arguments to the is_leap function. It is only necessary to complete the is_leap function."
   ]
  },
  {
   "cell_type": "code",
   "execution_count": 19,
   "id": "49fdb993",
   "metadata": {},
   "outputs": [],
   "source": [
    "def is_leap(year):\n",
    "    if year%400==0 :\n",
    "        return True\n",
    "    elif year%100==0 :\n",
    "        return False\n",
    "    elif year%4==0:\n",
    "        return True\n",
    "    else:\n",
    "        return False\n",
    "        "
   ]
  },
  {
   "cell_type": "markdown",
   "id": "f94aa9de",
   "metadata": {},
   "source": [
    "\n",
    "## Task-7\n",
    "The included code stub will read an integer, , from STDIN.\n",
    "\n",
    "Without using any string methods, try to print the following:\n",
    "    123...n\n",
    "\n",
    "\n",
    "Note that \"\" represents the consecutive values in between.\n",
    "\n",
    "Example\n",
    "n=5\n",
    "\n",
    "Print the string :12345\n",
    "\n",
    "Input Format\n",
    "\n",
    "The first line contains an integer n .\n",
    "\n",
    "Constraints\n",
    "\n",
    "1<=n<=150\n",
    "Output Format\n",
    "\n",
    "Print the list of integers from  through  as a string, without spaces."
   ]
  },
  {
   "cell_type": "code",
   "execution_count": 23,
   "id": "b82b1495",
   "metadata": {},
   "outputs": [
    {
     "name": "stdout",
     "output_type": "stream",
     "text": [
      "5\n",
      "12345\n"
     ]
    }
   ],
   "source": [
    "if __name__ == '__main__':\n",
    "    n = int(input())\n",
    "    i=1\n",
    "    str1=\"\"\n",
    "    for n in range(i,n+1):\n",
    "        str1=str1+(str(i))\n",
    "        i+=1\n",
    "print(str1)        \n"
   ]
  },
  {
   "cell_type": "code",
   "execution_count": null,
   "id": "e8b14509",
   "metadata": {},
   "outputs": [],
   "source": []
  }
 ],
 "metadata": {
  "kernelspec": {
   "display_name": "Python 3",
   "language": "python",
   "name": "python3"
  },
  "language_info": {
   "codemirror_mode": {
    "name": "ipython",
    "version": 3
   },
   "file_extension": ".py",
   "mimetype": "text/x-python",
   "name": "python",
   "nbconvert_exporter": "python",
   "pygments_lexer": "ipython3",
   "version": "3.8.8"
  }
 },
 "nbformat": 4,
 "nbformat_minor": 5
}
